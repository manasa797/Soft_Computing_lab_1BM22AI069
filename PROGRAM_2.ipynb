{
 "cells": [
  {
   "cell_type": "code",
   "execution_count": 1,
   "id": "1edf7afa",
   "metadata": {},
   "outputs": [
    {
     "name": "stdout",
     "output_type": "stream",
     "text": [
      "Elements in the fuzzy set with membership >= 4: ['x', 'z']\n"
     ]
    }
   ],
   "source": [
    "# Defuzzification, Lambda cut method Define the fuzzy set as a dictionary where the keys are the elements and the values are their membership values\n",
    "fuzzy_set = {'x': 4.5, 'y': 3.5, 'z':4.33}\n",
    "\n",
    "# Define the lambda value for the cut\n",
    "lambda_value = 4\n",
    "\n",
    "# Perform the lambda cut\n",
    "def lambda_cut(fuzzy_set, lambda_value):\n",
    "    # Create a list to store the elements that satisfy the lambda-cut condition\n",
    "    cut_set = []\n",
    "\n",
    "    # Iterate through the fuzzy set\n",
    "    for element, membership_value in fuzzy_set.items():\n",
    "        if membership_value >= lambda_value:\n",
    "            cut_set.append(element)\n",
    "\n",
    "    return cut_set\n",
    "\n",
    "# Get the resulting crisp set (elements with membership >= lambda_value)\n",
    "result = lambda_cut(fuzzy_set, lambda_value)\n",
    "\n",
    "# Output the result\n",
    "print(f\"Elements in the fuzzy set with membership >= {lambda_value}: {result}\")\n"
   ]
  },
  {
   "cell_type": "code",
   "execution_count": null,
   "id": "4de503f9",
   "metadata": {},
   "outputs": [],
   "source": []
  }
 ],
 "metadata": {
  "kernelspec": {
   "display_name": "Python 3 (ipykernel)",
   "language": "python",
   "name": "python3"
  },
  "language_info": {
   "codemirror_mode": {
    "name": "ipython",
    "version": 3
   },
   "file_extension": ".py",
   "mimetype": "text/x-python",
   "name": "python",
   "nbconvert_exporter": "python",
   "pygments_lexer": "ipython3",
   "version": "3.9.12"
  }
 },
 "nbformat": 4,
 "nbformat_minor": 5
}
