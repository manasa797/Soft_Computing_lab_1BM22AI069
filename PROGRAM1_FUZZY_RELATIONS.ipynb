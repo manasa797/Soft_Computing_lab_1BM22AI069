{
 "cells": [
  {
   "cell_type": "code",
   "execution_count": 1,
   "id": "4e4ad962",
   "metadata": {},
   "outputs": [
    {
     "name": "stdout",
     "output_type": "stream",
     "text": [
      "Temperature fuzzy relation (R_A): [0.0, 0.5, 1.0]\n",
      "Humidity fuzzy relation (R_B): [0.0, 0.6, 1.0]\n",
      "Min values between R_A and R_B: [0.0, 0.5, 1.0]\n",
      "Result of Min-Max Composition (R_C): 1.0\n",
      "Action: Turn the fan to HIGH speed\n"
     ]
    }
   ],
   "source": [
    "\n",
    "# Function for min-max composition formula\n",
    "def min_max_composition_formula(temperature, humidity):\n",
    "    # Fuzzy relations for temperature and humidity (example values)\n",
    "    # Temperature (0% = cold, 100% = hot)\n",
    "    # Humidity (0% = dry, 100% = humid)\n",
    "\n",
    "    # Create fuzzy relations for temperature (R_A) and humidity (R_B)\n",
    "    R_A = [0.0, 0.5, 1.0]  # Example fuzzy values for temperature (cold, moderate, hot)\n",
    "    R_B = [0.0, 0.6, 1.0]  # Example fuzzy values for humidity (dry, moderate, humid)\n",
    "\n",
    "    # Perform min-max composition\n",
    "    # Apply min function between corresponding values of R_A and R_B\n",
    "    min_values = [min(R_A[i], R_B[i]) for i in range(len(R_A))]\n",
    "\n",
    "    # Apply max function to get the final result for the composition\n",
    "    R_C = max(min_values)  # Result of the composition using the max of min values\n",
    "\n",
    "    # Output the results\n",
    "    print(f\"Temperature fuzzy relation (R_A): {R_A}\")\n",
    "    print(f\"Humidity fuzzy relation (R_B): {R_B}\")\n",
    "    print(f\"Min values between R_A and R_B: {min_values}\")\n",
    "    print(f\"Result of Min-Max Composition (R_C): {R_C}\")\n",
    "\n",
    "    # Decision based on the result\n",
    "    if R_C > 0.8:\n",
    "        action = \"Turn the fan to HIGH speed\"\n",
    "    elif R_C > 0.5:\n",
    "        action = \"Turn the fan to MEDIUM speed\"\n",
    "    else:\n",
    "        action = \"Turn the fan to LOW speed\"\n",
    "\n",
    "    return action\n",
    "\n",
    "# Example usage\n",
    "temperature = 70  # Temperature in percentage (0% = cold, 100% = hot)\n",
    "humidity = 80     # Humidity in percentage (0% = dry, 100% = humid)\n",
    "\n",
    "action = min_max_composition_formula(temperature, humidity)\n",
    "print(f\"Action: {action}\")"
   ]
  },
  {
   "cell_type": "code",
   "execution_count": null,
   "id": "7ccce03c",
   "metadata": {},
   "outputs": [],
   "source": []
  },
  {
   "cell_type": "code",
   "execution_count": null,
   "id": "5fe59c5c",
   "metadata": {},
   "outputs": [],
   "source": []
  }
 ],
 "metadata": {
  "kernelspec": {
   "display_name": "Python 3 (ipykernel)",
   "language": "python",
   "name": "python3"
  },
  "language_info": {
   "codemirror_mode": {
    "name": "ipython",
    "version": 3
   },
   "file_extension": ".py",
   "mimetype": "text/x-python",
   "name": "python",
   "nbconvert_exporter": "python",
   "pygments_lexer": "ipython3",
   "version": "3.9.12"
  }
 },
 "nbformat": 4,
 "nbformat_minor": 5
}
