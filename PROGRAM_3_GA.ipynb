{
 "cells": [
  {
   "cell_type": "code",
   "execution_count": 1,
   "id": "637566f6",
   "metadata": {},
   "outputs": [
    {
     "name": "stdout",
     "output_type": "stream",
     "text": [
      "Generation 1: Best Fitness = 729, Best Solution = 27\n",
      "Generation 2: Best Fitness = 729, Best Solution = 27\n",
      "Generation 3: Best Fitness = 729, Best Solution = 27\n",
      "Generation 4: Best Fitness = 729, Best Solution = 27\n",
      "Generation 5: Best Fitness = 729, Best Solution = 27\n",
      "Generation 6: Best Fitness = 729, Best Solution = 27\n",
      "Generation 7: Best Fitness = 729, Best Solution = 27\n",
      "Generation 8: Best Fitness = 729, Best Solution = 27\n",
      "Generation 9: Best Fitness = 729, Best Solution = 27\n",
      "Generation 10: Best Fitness = 729, Best Solution = 27\n",
      "Generation 11: Best Fitness = 729, Best Solution = 27\n",
      "Generation 12: Best Fitness = 729, Best Solution = 27\n",
      "Generation 13: Best Fitness = 729, Best Solution = 27\n",
      "Generation 14: Best Fitness = 729, Best Solution = 27\n",
      "Generation 15: Best Fitness = 729, Best Solution = 27\n",
      "Generation 16: Best Fitness = 729, Best Solution = 27\n",
      "Generation 17: Best Fitness = 729, Best Solution = 27\n",
      "Generation 18: Best Fitness = 729, Best Solution = 27\n",
      "Generation 19: Best Fitness = 729, Best Solution = 27\n",
      "Generation 20: Best Fitness = 729, Best Solution = 27\n",
      "Best solution found: 27, Fitness: 729\n"
     ]
    }
   ],
   "source": [
    "#GA\n",
    "import random\n",
    "\n",
    "# Fitness function: We're trying to maximize x^2\n",
    "def fitness(x):\n",
    "    return x ** 2\n",
    "\n",
    "# Generate initial population (random integers between 0 and 31)\n",
    "def create_population(size):\n",
    "    return [random.randint(0, 31) for _ in range(size)]\n",
    "\n",
    "# Select two parents randomly from the population\n",
    "def select(population):\n",
    "    return random.choice(population), random.choice(population)\n",
    "\n",
    "# Crossover: Create two children from two parents\n",
    "def crossover(parent1, parent2):\n",
    "    return (parent1 + parent2) // 2, (parent1 + parent2) // 2\n",
    "\n",
    "# Mutation: Randomly change one of the parent's values\n",
    "def mutate(x):\n",
    "    if random.random() < 0.1:  # 10% chance of mutation\n",
    "        return random.randint(0, 31)\n",
    "    return x\n",
    "\n",
    "# Genetic Algorithm Main Function\n",
    "def genetic_algorithm(population_size, generations):\n",
    "    # Create initial population\n",
    "    population = create_population(population_size)\n",
    "\n",
    "    for generation in range(generations):\n",
    "        # Select two parents randomly\n",
    "        parent1, parent2 = select(population)\n",
    "\n",
    "        # Create two children from crossover\n",
    "        child1, child2 = crossover(parent1, parent2)\n",
    "\n",
    "        # Mutate the children\n",
    "        child1 = mutate(child1)\n",
    "        child2 = mutate(child2)\n",
    "\n",
    "        # Replace two worst individuals with children (simple replacement)\n",
    "        population.sort(key=fitness)  # Sort by fitness (ascending order)\n",
    "        population[0] = child1  # Replace worst with child1\n",
    "        population[1] = child2  # Replace second worst with child2\n",
    "\n",
    "        # Print the best solution in this generation\n",
    "        best_solution = max(population, key=fitness)\n",
    "        print(f\"Generation {generation + 1}: Best Fitness = {fitness(best_solution)}, Best Solution = {best_solution}\")\n",
    "\n",
    "    # Return the best solution found\n",
    "    return max(population, key=fitness)\n",
    "\n",
    "# Run the algorithm\n",
    "population_size = 10  # Population size\n",
    "generations = 20      # Number of generations\n",
    "\n",
    "best = genetic_algorithm(population_size, generations)\n",
    "print(f\"Best solution found: {best}, Fitness: {fitness(best)}\")\n"
   ]
  },
  {
   "cell_type": "code",
   "execution_count": null,
   "id": "e17f2ae6",
   "metadata": {},
   "outputs": [],
   "source": []
  }
 ],
 "metadata": {
  "kernelspec": {
   "display_name": "Python 3 (ipykernel)",
   "language": "python",
   "name": "python3"
  },
  "language_info": {
   "codemirror_mode": {
    "name": "ipython",
    "version": 3
   },
   "file_extension": ".py",
   "mimetype": "text/x-python",
   "name": "python",
   "nbconvert_exporter": "python",
   "pygments_lexer": "ipython3",
   "version": "3.9.12"
  }
 },
 "nbformat": 4,
 "nbformat_minor": 5
}
