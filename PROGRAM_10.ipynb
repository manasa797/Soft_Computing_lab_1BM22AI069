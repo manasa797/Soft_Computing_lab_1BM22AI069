{
  "nbformat": 4,
  "nbformat_minor": 0,
  "metadata": {
    "colab": {
      "provenance": []
    },
    "kernelspec": {
      "name": "python3",
      "display_name": "Python 3"
    },
    "language_info": {
      "name": "python"
    }
  },
  "cells": [
    {
      "cell_type": "code",
      "execution_count": 2,
      "metadata": {
        "colab": {
          "base_uri": "https://localhost:8080/"
        },
        "id": "S6Wt1oJq4oLg",
        "outputId": "d595aa10-48c1-42ca-aa33-954886dcd87a"
      },
      "outputs": [
        {
          "output_type": "stream",
          "name": "stdout",
          "text": [
            "Accuracy: 0.9076233183856502\n",
            "Confusion Matrix:\n",
            " [[962   4]\n",
            " [ 99  50]]\n",
            "Classification Report:\n",
            "               precision    recall  f1-score   support\n",
            "\n",
            "         ham       0.91      1.00      0.95       966\n",
            "        spam       0.93      0.34      0.49       149\n",
            "\n",
            "    accuracy                           0.91      1115\n",
            "   macro avg       0.92      0.67      0.72      1115\n",
            "weighted avg       0.91      0.91      0.89      1115\n",
            "\n"
          ]
        }
      ],
      "source": [
        "import pandas as pd\n",
        "from sklearn.model_selection import train_test_split\n",
        "from sklearn.ensemble import AdaBoostClassifier\n",
        "from sklearn.tree import DecisionTreeClassifier\n",
        "from sklearn.metrics import classification_report, accuracy_score, confusion_matrix\n",
        "from sklearn.feature_extraction.text import TfidfVectorizer\n",
        "\n",
        "# Load dataset (example: assumes 'message' and 'label' columns)\n",
        "data = pd.read_csv('/content/spam.csv')  # 'message' = text, 'label' = 1 or 0\n",
        "\n",
        "# Extract features and labels\n",
        "X_text = data['Message']\n",
        "y = data['Category']\n",
        "\n",
        "# Convert text to TF-IDF features\n",
        "vectorizer = TfidfVectorizer(stop_words='english', max_features=5000)\n",
        "X = vectorizer.fit_transform(X_text)\n",
        "\n",
        "# Split dataset\n",
        "X_train, X_test, y_train, y_test = train_test_split(X, y, test_size=0.2, random_state=42)\n",
        "\n",
        "# Create weak learner\n",
        "base_estimator = DecisionTreeClassifier(max_depth=1)\n",
        "\n",
        "# Create AdaBoost classifier\n",
        "model = AdaBoostClassifier(estimator=base_estimator, n_estimators=50, learning_rate=1.0)\n",
        "\n",
        "# Train\n",
        "model.fit(X_train, y_train)\n",
        "\n",
        "# Predict\n",
        "y_pred = model.predict(X_test)\n",
        "\n",
        "# Evaluate\n",
        "print(\"Accuracy:\", accuracy_score(y_test, y_pred))\n",
        "print(\"Confusion Matrix:\\n\", confusion_matrix(y_test, y_pred))\n",
        "print(\"Classification Report:\\n\", classification_report(y_test, y_pred))"
      ]
    },
    {
      "cell_type": "code",
      "source": [],
      "metadata": {
        "id": "l0bLLOaE4t5L"
      },
      "execution_count": null,
      "outputs": []
    }
  ]
}