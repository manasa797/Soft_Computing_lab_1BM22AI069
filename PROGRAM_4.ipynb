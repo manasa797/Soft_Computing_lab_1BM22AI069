{
 "cells": [
  {
   "cell_type": "code",
   "execution_count": 3,
   "id": "66487afb",
   "metadata": {},
   "outputs": [
    {
     "name": "stdout",
     "output_type": "stream",
     "text": [
      "the sorted array is  [1, 2, 23, 45, 50, 80]\n"
     ]
    }
   ],
   "source": [
    "\n",
    "def merge_sort(arr):\n",
    "  if len(arr) > 1:\n",
    "    mid = len(arr)//2\n",
    "    left_half = arr[:mid]\n",
    "    right_half = arr[mid:]\n",
    "\n",
    "    merge_sort(left_half)\n",
    "    merge_sort(right_half)\n",
    "\n",
    "    i = j = k = 0\n",
    "    while i < len(left_half) and j < len(right_half):\n",
    "      if left_half[i] < right_half[j]:\n",
    "        arr[k] = left_half[i]\n",
    "        i+=1\n",
    "\n",
    "      else:\n",
    "        arr[k] = right_half[j]\n",
    "        j+=1\n",
    "\n",
    "      k+=1\n",
    "\n",
    "    while i < len(left_half):\n",
    "      arr[k] = left_half[i]\n",
    "      i+=1\n",
    "      k+=1\n",
    "\n",
    "    while j<len(right_half):\n",
    "      arr[k] = right_half[j]\n",
    "      j+=1\n",
    "      k+=1\n",
    "  return arr\n",
    "arr = [50,1,23,45,2,80]\n",
    "print(\"the sorted array is \" , merge_sort(arr))"
   ]
  },
  {
   "cell_type": "code",
   "execution_count": null,
   "id": "c9530ceb",
   "metadata": {},
   "outputs": [],
   "source": []
  }
 ],
 "metadata": {
  "kernelspec": {
   "display_name": "Python 3 (ipykernel)",
   "language": "python",
   "name": "python3"
  },
  "language_info": {
   "codemirror_mode": {
    "name": "ipython",
    "version": 3
   },
   "file_extension": ".py",
   "mimetype": "text/x-python",
   "name": "python",
   "nbconvert_exporter": "python",
   "pygments_lexer": "ipython3",
   "version": "3.9.12"
  }
 },
 "nbformat": 4,
 "nbformat_minor": 5
}
