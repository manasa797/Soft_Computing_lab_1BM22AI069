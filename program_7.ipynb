{
 "cells": [
  {
   "cell_type": "code",
   "execution_count": 2,
   "id": "9c34a3cc",
   "metadata": {},
   "outputs": [
    {
     "name": "stdout",
     "output_type": "stream",
     "text": [
      "Iteration 1: Best Solution [-3.95849787 -0.8148493 ] with value 16.333684728649533\n",
      "Iteration 2: Best Solution [ 3.65771772 -1.77650358] with value 16.534863840893866\n",
      "Iteration 3: Best Solution [ 2.01375205 -1.61350773] with value 6.658604512921204\n",
      "Iteration 4: Best Solution [ 0.46545572 -0.14473547] with value 0.23759738465137137\n",
      "Iteration 5: Best Solution [-0.01091324  0.11191814] with value 0.012644768389046424\n",
      "Iteration 6: Best Solution [-0.09655539 -0.21198242] with value 0.054259490079949846\n",
      "Iteration 7: Best Solution [-0.0170266   0.00849613] with value 0.00036208936601854193\n",
      "Iteration 8: Best Solution [ 0.04225899 -0.0508106 ] with value 0.004367538824450866\n",
      "Iteration 9: Best Solution [ 0.02794759 -0.06621469] with value 0.005165452336406341\n",
      "Iteration 10: Best Solution [ 0.00786853 -0.07884555] with value 0.006278534474704578\n",
      "Iteration 11: Best Solution [ 0.00756415 -0.05415566] with value 0.002990051492903951\n",
      "Iteration 12: Best Solution [ 0.00392612 -0.0492525 ] with value 0.0024412228138879634\n",
      "Iteration 13: Best Solution [ 0.0026366  -0.04413644] with value 0.0019549766637268866\n",
      "Iteration 14: Best Solution [ 0.0036134  -0.03940109] with value 0.0015655024913466256\n",
      "Iteration 15: Best Solution [ 0.00461588 -0.0342832 ] with value 0.0011966442147426423\n",
      "Iteration 16: Best Solution [ 0.00522666 -0.0385213 ] with value 0.0015112084962876071\n",
      "Iteration 17: Best Solution [ 0.00534357 -0.03735718] with value 0.0014241125004920729\n",
      "Iteration 18: Best Solution [ 0.00468447 -0.03723795] with value 0.0014086093548293464\n",
      "Iteration 19: Best Solution [ 0.00479359 -0.03809611] with value 0.0014742921765755568\n",
      "Iteration 20: Best Solution [ 0.00515762 -0.0379274 ] with value 0.0014650888404941463\n"
     ]
    }
   ],
   "source": [
    "#GWO\n",
    "\n",
    "\n",
    "import numpy as np\n",
    "\n",
    "# Objective function: Sphere function (minimize f(x) = x^2 + y^2)\n",
    "def objective_function(position):\n",
    "    return sum(x**2 for x in position)  # Simple function for testing\n",
    "\n",
    "# Initialize parameters\n",
    "num_wolves = 5\n",
    "num_dimensions = 2  # 2D problem (x, y)\n",
    "num_iterations = 20\n",
    "search_space = (-10, 10)  # Range of values\n",
    "\n",
    "# Initialize positions of wolves randomly\n",
    "wolves = np.random.uniform(search_space[0], search_space[1], (num_wolves, num_dimensions))\n",
    "\n",
    "# Identify Alpha, Beta, and Delta (best three solutions)\n",
    "fitness = np.array([objective_function(w) for w in wolves])\n",
    "sorted_indices = np.argsort(fitness)\n",
    "alpha, beta, delta = wolves[sorted_indices[:3]]\n",
    "\n",
    "# Main GWO loop\n",
    "for iteration in range(num_iterations):\n",
    "    a = 2 - iteration * (2 / num_iterations)  # Coefficient decreases over time\n",
    "\n",
    "    for i in range(num_wolves):\n",
    "        for d in range(num_dimensions):\n",
    "            # Update position based on Alpha, Beta, and Delta\n",
    "            r1, r2 = np.random.rand(), np.random.rand()\n",
    "            A1, C1 = 2 * a * r1 - a, 2 * r2\n",
    "            D_alpha = abs(C1 * alpha[d] - wolves[i][d])\n",
    "            X1 = alpha[d] - A1 * D_alpha\n",
    "\n",
    "            r1, r2 = np.random.rand(), np.random.rand()\n",
    "            A2, C2 = 2 * a * r1 - a, 2 * r2\n",
    "            D_beta = abs(C2 * beta[d] - wolves[i][d])\n",
    "            X2 = beta[d] - A2 * D_beta\n",
    "\n",
    "            r1, r2 = np.random.rand(), np.random.rand()\n",
    "            A3, C3 = 2 * a * r1 - a, 2 * r2\n",
    "            D_delta = abs(C3 * delta[d] - wolves[i][d])\n",
    "            X3 = delta[d] - A3 * D_delta\n",
    "\n",
    "            # New position update\n",
    "            wolves[i][d] = (X1 + X2 + X3) / 3\n",
    "\n",
    "    # Update Alpha, Beta, Delta\n",
    "    fitness = np.array([objective_function(w) for w in wolves])\n",
    "    sorted_indices = np.argsort(fitness)\n",
    "    alpha, beta, delta = wolves[sorted_indices[:3]]\n",
    "\n",
    "    print(f\"Iteration {iteration+1}: Best Solution {alpha} with value {objective_function(alpha)}\")\n",
    "\n"
   ]
  },
  {
   "cell_type": "code",
   "execution_count": null,
   "id": "6622efd4",
   "metadata": {},
   "outputs": [],
   "source": []
  }
 ],
 "metadata": {
  "kernelspec": {
   "display_name": "Python 3 (ipykernel)",
   "language": "python",
   "name": "python3"
  },
  "language_info": {
   "codemirror_mode": {
    "name": "ipython",
    "version": 3
   },
   "file_extension": ".py",
   "mimetype": "text/x-python",
   "name": "python",
   "nbconvert_exporter": "python",
   "pygments_lexer": "ipython3",
   "version": "3.9.12"
  }
 },
 "nbformat": 4,
 "nbformat_minor": 5
}
