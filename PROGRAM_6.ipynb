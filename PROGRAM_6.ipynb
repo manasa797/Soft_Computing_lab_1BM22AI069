{
 "cells": [
  {
   "cell_type": "code",
   "execution_count": 2,
   "id": "4e20ee79",
   "metadata": {},
   "outputs": [
    {
     "name": "stdout",
     "output_type": "stream",
     "text": [
      "Best Position: [-3.37720511e-09  3.10954156e-09  5.78258488e-10 -1.76832258e-10\n",
      " -4.54414398e-09]\n",
      "Best Score: 4.2089660113700725e-17\n"
     ]
    }
   ],
   "source": [
    "#PSO\n",
    "import numpy as np\n",
    "\n",
    "def sphere_function(x):\n",
    "    return np.sum(x**2)  # Example function to minimize\n",
    "\n",
    "# PSO parameters\n",
    "dim = 5  # Number of dimensions\n",
    "bounds = (-10, 10)  # Search space bounds\n",
    "num_particles = 30\n",
    "max_iter = 100\n",
    "w, c1, c2 = 0.5, 1.5, 1.5\n",
    "\n",
    "# Initialize swarm\n",
    "positions = np.random.uniform(bounds[0], bounds[1], (num_particles, dim))\n",
    "velocities = np.random.uniform(-1, 1, (num_particles, dim))\n",
    "best_positions = np.copy(positions)\n",
    "best_scores = np.array([sphere_function(p) for p in positions])\n",
    "global_best_position = best_positions[np.argmin(best_scores)]\n",
    "global_best_score = np.min(best_scores)\n",
    "\n",
    "# Optimization loop\n",
    "for _ in range(max_iter):\n",
    "    for i in range(num_particles):\n",
    "        score = sphere_function(positions[i])\n",
    "        if score < best_scores[i]:\n",
    "            best_scores[i] = score\n",
    "            best_positions[i] = positions[i]\n",
    "        if score < global_best_score:\n",
    "            global_best_score = score\n",
    "            global_best_position = positions[i]\n",
    "    \n",
    "    r1, r2 = np.random.rand(num_particles, dim), np.random.rand(num_particles, dim)\n",
    "    velocities = w * velocities + c1 * r1 * (best_positions - positions) + c2 * r2 * (global_best_position - positions)\n",
    "    positions = np.clip(positions + velocities, bounds[0], bounds[1])\n",
    "\n",
    "print(\"Best Position:\", global_best_position)\n",
    "print(\"Best Score:\", global_best_score)\n"
   ]
  },
  {
   "cell_type": "code",
   "execution_count": null,
   "id": "a0952f47",
   "metadata": {},
   "outputs": [],
   "source": []
  }
 ],
 "metadata": {
  "kernelspec": {
   "display_name": "Python 3 (ipykernel)",
   "language": "python",
   "name": "python3"
  },
  "language_info": {
   "codemirror_mode": {
    "name": "ipython",
    "version": 3
   },
   "file_extension": ".py",
   "mimetype": "text/x-python",
   "name": "python",
   "nbconvert_exporter": "python",
   "pygments_lexer": "ipython3",
   "version": "3.9.12"
  }
 },
 "nbformat": 4,
 "nbformat_minor": 5
}
