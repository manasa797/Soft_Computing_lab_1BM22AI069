{
  "nbformat": 4,
  "nbformat_minor": 0,
  "metadata": {
    "colab": {
      "provenance": []
    },
    "kernelspec": {
      "name": "python3",
      "display_name": "Python 3"
    },
    "language_info": {
      "name": "python"
    }
  },
  "cells": [
    {
      "cell_type": "markdown",
      "source": [
        "Implement a single layer perceptron using the perceptron delta rule for training"
      ],
      "metadata": {
        "id": "pMcWtP-DOkUb"
      }
    },
    {
      "cell_type": "code",
      "source": [
        "import numpy as np\n",
        "\n",
        "# Step activation function\n",
        "def step_function(x):\n",
        "    return 1 if x >= 0 else 0\n",
        "\n",
        "class Perceptron:\n",
        "    def __init__(self, input_size, learning_rate=0.1):\n",
        "        self.weights = np.zeros(input_size)\n",
        "        self.bias = 0\n",
        "        self.learning_rate = learning_rate\n",
        "\n",
        "    def predict(self, x):\n",
        "        linear_output = np.dot(x, self.weights) + self.bias\n",
        "        return step_function(linear_output)\n",
        "\n",
        "    def train(self, X, y, epochs=10):\n",
        "        for epoch in range(epochs):\n",
        "            print(f\"Epoch {epoch+1}\")\n",
        "            for i in range(len(X)):\n",
        "                x_i = X[i]\n",
        "                target = y[i]\n",
        "                output = self.predict(x_i)\n",
        "\n",
        "                # Apply Perceptron Learning Rule\n",
        "                error = target - output\n",
        "                self.weights += self.learning_rate * error * x_i\n",
        "                self.bias += self.learning_rate * error\n",
        "\n",
        "                print(f\"  Input: {x_i}, Target: {target}, Output: {output}, Weights: {self.weights}\")\n",
        "\n",
        "    def evaluate(self, X):\n",
        "        for x in X:\n",
        "            print(f\"Input: {x}, Predicted Output: {self.predict(x)}\")\n",
        "\n",
        "# Example: AND gate\n",
        "X = np.array([[0,0], [0,1], [1,0], [1,1]])\n",
        "y = np.array([0, 0, 0, 1])\n",
        "\n",
        "perceptron = Perceptron(input_size=2, learning_rate=0.1)\n",
        "perceptron.train(X, y, epochs=10)\n",
        "\n",
        "print(\"\\nFinal Predictions:\")\n",
        "perceptron.evaluate(X)"
      ],
      "metadata": {
        "colab": {
          "base_uri": "https://localhost:8080/"
        },
        "id": "yYI8qQVnOnz8",
        "outputId": "adda4655-3ea9-4621-d763-179dea269261"
      },
      "execution_count": 1,
      "outputs": [
        {
          "output_type": "stream",
          "name": "stdout",
          "text": [
            "Epoch 1\n",
            "  Input: [0 0], Target: 0, Output: 1, Weights: [0. 0.]\n",
            "  Input: [0 1], Target: 0, Output: 0, Weights: [0. 0.]\n",
            "  Input: [1 0], Target: 0, Output: 0, Weights: [0. 0.]\n",
            "  Input: [1 1], Target: 1, Output: 0, Weights: [0.1 0.1]\n",
            "Epoch 2\n",
            "  Input: [0 0], Target: 0, Output: 1, Weights: [0.1 0.1]\n",
            "  Input: [0 1], Target: 0, Output: 1, Weights: [0.1 0. ]\n",
            "  Input: [1 0], Target: 0, Output: 0, Weights: [0.1 0. ]\n",
            "  Input: [1 1], Target: 1, Output: 0, Weights: [0.2 0.1]\n",
            "Epoch 3\n",
            "  Input: [0 0], Target: 0, Output: 0, Weights: [0.2 0.1]\n",
            "  Input: [0 1], Target: 0, Output: 1, Weights: [0.2 0. ]\n",
            "  Input: [1 0], Target: 0, Output: 1, Weights: [0.1 0. ]\n",
            "  Input: [1 1], Target: 1, Output: 0, Weights: [0.2 0.1]\n",
            "Epoch 4\n",
            "  Input: [0 0], Target: 0, Output: 0, Weights: [0.2 0.1]\n",
            "  Input: [0 1], Target: 0, Output: 0, Weights: [0.2 0.1]\n",
            "  Input: [1 0], Target: 0, Output: 0, Weights: [0.2 0.1]\n",
            "  Input: [1 1], Target: 1, Output: 1, Weights: [0.2 0.1]\n",
            "Epoch 5\n",
            "  Input: [0 0], Target: 0, Output: 0, Weights: [0.2 0.1]\n",
            "  Input: [0 1], Target: 0, Output: 0, Weights: [0.2 0.1]\n",
            "  Input: [1 0], Target: 0, Output: 0, Weights: [0.2 0.1]\n",
            "  Input: [1 1], Target: 1, Output: 1, Weights: [0.2 0.1]\n",
            "Epoch 6\n",
            "  Input: [0 0], Target: 0, Output: 0, Weights: [0.2 0.1]\n",
            "  Input: [0 1], Target: 0, Output: 0, Weights: [0.2 0.1]\n",
            "  Input: [1 0], Target: 0, Output: 0, Weights: [0.2 0.1]\n",
            "  Input: [1 1], Target: 1, Output: 1, Weights: [0.2 0.1]\n",
            "Epoch 7\n",
            "  Input: [0 0], Target: 0, Output: 0, Weights: [0.2 0.1]\n",
            "  Input: [0 1], Target: 0, Output: 0, Weights: [0.2 0.1]\n",
            "  Input: [1 0], Target: 0, Output: 0, Weights: [0.2 0.1]\n",
            "  Input: [1 1], Target: 1, Output: 1, Weights: [0.2 0.1]\n",
            "Epoch 8\n",
            "  Input: [0 0], Target: 0, Output: 0, Weights: [0.2 0.1]\n",
            "  Input: [0 1], Target: 0, Output: 0, Weights: [0.2 0.1]\n",
            "  Input: [1 0], Target: 0, Output: 0, Weights: [0.2 0.1]\n",
            "  Input: [1 1], Target: 1, Output: 1, Weights: [0.2 0.1]\n",
            "Epoch 9\n",
            "  Input: [0 0], Target: 0, Output: 0, Weights: [0.2 0.1]\n",
            "  Input: [0 1], Target: 0, Output: 0, Weights: [0.2 0.1]\n",
            "  Input: [1 0], Target: 0, Output: 0, Weights: [0.2 0.1]\n",
            "  Input: [1 1], Target: 1, Output: 1, Weights: [0.2 0.1]\n",
            "Epoch 10\n",
            "  Input: [0 0], Target: 0, Output: 0, Weights: [0.2 0.1]\n",
            "  Input: [0 1], Target: 0, Output: 0, Weights: [0.2 0.1]\n",
            "  Input: [1 0], Target: 0, Output: 0, Weights: [0.2 0.1]\n",
            "  Input: [1 1], Target: 1, Output: 1, Weights: [0.2 0.1]\n",
            "\n",
            "Final Predictions:\n",
            "Input: [0 0], Predicted Output: 0\n",
            "Input: [0 1], Predicted Output: 0\n",
            "Input: [1 0], Predicted Output: 0\n",
            "Input: [1 1], Predicted Output: 1\n"
          ]
        }
      ]
    },
    {
      "cell_type": "markdown",
      "source": [
        "Implement a simple neural network using hebb's learning rule for training"
      ],
      "metadata": {
        "id": "yKJflg_HOjKU"
      }
    },
    {
      "cell_type": "code",
      "execution_count": 2,
      "metadata": {
        "colab": {
          "base_uri": "https://localhost:8080/"
        },
        "id": "MFrREzMuOSIw",
        "outputId": "9e6c20d5-c052-43e6-deb5-93179ccc6097"
      },
      "outputs": [
        {
          "output_type": "stream",
          "name": "stdout",
          "text": [
            "Training using Hebb's Rule\n",
            "  Input: [0 0], Target: 0, Weights: [0. 0.], Bias: 0.0\n",
            "  Input: [0 1], Target: 0, Weights: [0. 0.], Bias: 0.0\n",
            "  Input: [1 0], Target: 0, Weights: [0. 0.], Bias: 0.0\n",
            "  Input: [1 1], Target: 1, Weights: [0.1 0.1], Bias: 0.1\n",
            "\n",
            "Final Predictions:\n",
            "Input: [0 0], Predicted Output: 1\n",
            "Input: [0 1], Predicted Output: 1\n",
            "Input: [1 0], Predicted Output: 1\n",
            "Input: [1 1], Predicted Output: 1\n"
          ]
        }
      ],
      "source": [
        "import numpy as np\n",
        "\n",
        "class HebbianPerceptron:\n",
        "    def __init__(self, input_size, learning_rate=0.1):\n",
        "        self.weights = np.zeros(input_size)\n",
        "        self.bias = 0\n",
        "        self.learning_rate = learning_rate\n",
        "\n",
        "    def train(self, X, y):\n",
        "        print(\"Training using Hebb's Rule\")\n",
        "        for i in range(len(X)):\n",
        "            x_i = X[i]\n",
        "            target = y[i]\n",
        "\n",
        "            # Hebb's rule: w = w + η * x * y\n",
        "            self.weights += self.learning_rate * x_i * target\n",
        "            self.bias += self.learning_rate * target\n",
        "\n",
        "            print(f\"  Input: {x_i}, Target: {target}, Weights: {self.weights}, Bias: {self.bias}\")\n",
        "\n",
        "    def predict(self, x):\n",
        "        result = np.dot(x, self.weights) + self.bias\n",
        "        return 1 if result >= 0 else 0\n",
        "\n",
        "    def evaluate(self, X):\n",
        "        for x in X:\n",
        "            print(f\"Input: {x}, Predicted Output: {self.predict(x)}\")\n",
        "\n",
        "# Example: AND Gate\n",
        "X = np.array([[0,0], [0,1], [1,0], [1,1]])\n",
        "y = np.array([0, 0, 0, 1])\n",
        "\n",
        "perceptron = HebbianPerceptron(input_size=2, learning_rate=0.1)\n",
        "perceptron.train(X, y)\n",
        "\n",
        "print(\"\\nFinal Predictions:\")\n",
        "perceptron.evaluate(X)"
      ]
    },
    {
      "cell_type": "code",
      "source": [],
      "metadata": {
        "id": "J6BMDgnPO5_f"
      },
      "execution_count": null,
      "outputs": []
    }
  ]
}